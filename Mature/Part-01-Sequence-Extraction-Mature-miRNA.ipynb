{
 "cells": [
  {
   "cell_type": "code",
   "execution_count": 1,
   "id": "outside-jefferson",
   "metadata": {},
   "outputs": [],
   "source": [
    "from Bio import SeqIO\n",
    "\n",
    "import pandas as pd\n",
    "import numpy as np"
   ]
  },
  {
   "cell_type": "code",
   "execution_count": 2,
   "id": "nervous-chile",
   "metadata": {},
   "outputs": [],
   "source": [
    "count_musculus = 0\n",
    "count_sapiens = 0\n",
    "\n",
    "sequences_musculus = list()\n",
    "sequences_sapiens = list()\n",
    "\n",
    "label_musculus = list()\n",
    "label_sapiens = list()\n",
    "\n",
    "for seq_record in SeqIO.parse(\"mature.fa\", \"fasta\"):\n",
    "    organism_name = seq_record.description\n",
    "    \n",
    "    # Grabbing Mus musculus and Homo sapiens only\n",
    "    if organism_name.split(' ')[2] == 'Mus' and organism_name.split(' ')[3] == 'musculus':\n",
    "        count_musculus+=1\n",
    "        sequences_musculus.append(str(seq_record.seq))\n",
    "        label_musculus.append(str(organism_name.split(' ')[2]+' '+organism_name.split(' ')[3]))\n",
    "        \n",
    "    if organism_name.split(' ')[2] == 'Homo' and organism_name.split(' ')[3] == 'sapiens':\n",
    "        count_sapiens+=1\n",
    "        sequences_sapiens.append(str(seq_record.seq))      \n",
    "        label_sapiens.append(str(organism_name.split(' ')[2]+' '+organism_name.split(' ')[3]))"
   ]
  },
  {
   "cell_type": "code",
   "execution_count": 3,
   "id": "governing-rating",
   "metadata": {},
   "outputs": [
    {
     "data": {
      "text/plain": [
       "(2656, 1978)"
      ]
     },
     "execution_count": 3,
     "metadata": {},
     "output_type": "execute_result"
    }
   ],
   "source": [
    "count_sapiens, count_musculus"
   ]
  },
  {
   "cell_type": "code",
   "execution_count": 4,
   "id": "fixed-producer",
   "metadata": {},
   "outputs": [],
   "source": [
    "df_sapiens = pd.DataFrame(list(zip(sequences_sapiens, label_sapiens)), \n",
    "                          columns =['Sequences', 'Species']) \n",
    "\n",
    "df_musculus = pd.DataFrame(list(zip(sequences_musculus, label_musculus)), \n",
    "                          columns =['Sequences', 'Species']) "
   ]
  },
  {
   "cell_type": "code",
   "execution_count": 6,
   "id": "subtle-burden",
   "metadata": {},
   "outputs": [],
   "source": [
    "df_mature_mirna_sequence = pd.concat([df_sapiens, df_musculus], axis=0)"
   ]
  },
  {
   "cell_type": "code",
   "execution_count": 7,
   "id": "cosmetic-phone",
   "metadata": {},
   "outputs": [
    {
     "data": {
      "text/html": [
       "<div>\n",
       "<style scoped>\n",
       "    .dataframe tbody tr th:only-of-type {\n",
       "        vertical-align: middle;\n",
       "    }\n",
       "\n",
       "    .dataframe tbody tr th {\n",
       "        vertical-align: top;\n",
       "    }\n",
       "\n",
       "    .dataframe thead th {\n",
       "        text-align: right;\n",
       "    }\n",
       "</style>\n",
       "<table border=\"1\" class=\"dataframe\">\n",
       "  <thead>\n",
       "    <tr style=\"text-align: right;\">\n",
       "      <th></th>\n",
       "      <th>Sequences</th>\n",
       "      <th>Species</th>\n",
       "    </tr>\n",
       "  </thead>\n",
       "  <tbody>\n",
       "    <tr>\n",
       "      <th>0</th>\n",
       "      <td>UGAGGUAGUAGGUUGUAUAGUU</td>\n",
       "      <td>Homo sapiens</td>\n",
       "    </tr>\n",
       "    <tr>\n",
       "      <th>1</th>\n",
       "      <td>CUAUACAAUCUACUGUCUUUC</td>\n",
       "      <td>Homo sapiens</td>\n",
       "    </tr>\n",
       "    <tr>\n",
       "      <th>2</th>\n",
       "      <td>CUGUACAGCCUCCUAGCUUUCC</td>\n",
       "      <td>Homo sapiens</td>\n",
       "    </tr>\n",
       "    <tr>\n",
       "      <th>3</th>\n",
       "      <td>UGAGGUAGUAGGUUGUGUGGUU</td>\n",
       "      <td>Homo sapiens</td>\n",
       "    </tr>\n",
       "    <tr>\n",
       "      <th>4</th>\n",
       "      <td>CUAUACAACCUACUGCCUUCCC</td>\n",
       "      <td>Homo sapiens</td>\n",
       "    </tr>\n",
       "    <tr>\n",
       "      <th>...</th>\n",
       "      <td>...</td>\n",
       "      <td>...</td>\n",
       "    </tr>\n",
       "    <tr>\n",
       "      <th>1973</th>\n",
       "      <td>UGUGUCACUGGGGUUAUGCUUUG</td>\n",
       "      <td>Mus musculus</td>\n",
       "    </tr>\n",
       "    <tr>\n",
       "      <th>1974</th>\n",
       "      <td>AAGCCGGGCCUAGUGACUCUCU</td>\n",
       "      <td>Mus musculus</td>\n",
       "    </tr>\n",
       "    <tr>\n",
       "      <th>1975</th>\n",
       "      <td>UGUGUUUCCCAGUUGGUUUGA</td>\n",
       "      <td>Mus musculus</td>\n",
       "    </tr>\n",
       "    <tr>\n",
       "      <th>1976</th>\n",
       "      <td>AAACCAACUGGGAAACACAAAU</td>\n",
       "      <td>Mus musculus</td>\n",
       "    </tr>\n",
       "    <tr>\n",
       "      <th>1977</th>\n",
       "      <td>UACUAUGCCUGGAAGGCACCA</td>\n",
       "      <td>Mus musculus</td>\n",
       "    </tr>\n",
       "  </tbody>\n",
       "</table>\n",
       "<p>4634 rows × 2 columns</p>\n",
       "</div>"
      ],
      "text/plain": [
       "                    Sequences       Species\n",
       "0      UGAGGUAGUAGGUUGUAUAGUU  Homo sapiens\n",
       "1       CUAUACAAUCUACUGUCUUUC  Homo sapiens\n",
       "2      CUGUACAGCCUCCUAGCUUUCC  Homo sapiens\n",
       "3      UGAGGUAGUAGGUUGUGUGGUU  Homo sapiens\n",
       "4      CUAUACAACCUACUGCCUUCCC  Homo sapiens\n",
       "...                       ...           ...\n",
       "1973  UGUGUCACUGGGGUUAUGCUUUG  Mus musculus\n",
       "1974   AAGCCGGGCCUAGUGACUCUCU  Mus musculus\n",
       "1975    UGUGUUUCCCAGUUGGUUUGA  Mus musculus\n",
       "1976   AAACCAACUGGGAAACACAAAU  Mus musculus\n",
       "1977    UACUAUGCCUGGAAGGCACCA  Mus musculus\n",
       "\n",
       "[4634 rows x 2 columns]"
      ]
     },
     "execution_count": 7,
     "metadata": {},
     "output_type": "execute_result"
    }
   ],
   "source": [
    "df_mature_mirna_sequence"
   ]
  },
  {
   "cell_type": "code",
   "execution_count": 8,
   "id": "genuine-fundamentals",
   "metadata": {},
   "outputs": [],
   "source": [
    "df_mature_mirna_sequence.to_csv('df_mature_mirna_sequence.csv', index=False)"
   ]
  }
 ],
 "metadata": {
  "kernelspec": {
   "display_name": "Python 3",
   "language": "python",
   "name": "python3"
  },
  "language_info": {
   "codemirror_mode": {
    "name": "ipython",
    "version": 3
   },
   "file_extension": ".py",
   "mimetype": "text/x-python",
   "name": "python",
   "nbconvert_exporter": "python",
   "pygments_lexer": "ipython3",
   "version": "3.8.5"
  }
 },
 "nbformat": 4,
 "nbformat_minor": 5
}
